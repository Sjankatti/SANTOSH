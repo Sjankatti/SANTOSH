{
  "nbformat": 4,
  "nbformat_minor": 0,
  "metadata": {
    "colab": {
      "name": "Untitled2.ipynb",
      "provenance": [],
      "authorship_tag": "ABX9TyNLZrGbOHSYSdbchwl2phgd",
      "include_colab_link": true
    },
    "kernelspec": {
      "name": "python3",
      "display_name": "Python 3"
    }
  },
  "cells": [
    {
      "cell_type": "markdown",
      "metadata": {
        "id": "view-in-github",
        "colab_type": "text"
      },
      "source": [
        "<a href=\"https://colab.research.google.com/github/Sjankatti/SANTOSH/blob/master/Untitled2.ipynb\" target=\"_parent\"><img src=\"https://colab.research.google.com/assets/colab-badge.svg\" alt=\"Open In Colab\"/></a>"
      ]
    },
    {
      "cell_type": "code",
      "metadata": {
        "id": "EeiW7cp0P58m",
        "colab_type": "code",
        "outputId": "916dcb1b-2e03-43a7-bd40-6bb3fac2a5fb",
        "colab": {
          "base_uri": "https://localhost:8080/",
          "height": 71
        }
      },
      "source": [
        "import pandas as pd\n",
        "import matplotlib.pyplot as plt\n",
        "import seaborn as sns\n",
        "import numpy as np\n",
        "import plotly.express as px"
      ],
      "execution_count": 0,
      "outputs": [
        {
          "output_type": "stream",
          "text": [
            "/usr/local/lib/python3.6/dist-packages/statsmodels/tools/_testing.py:19: FutureWarning: pandas.util.testing is deprecated. Use the functions in the public API at pandas.testing instead.\n",
            "  import pandas.util.testing as tm\n"
          ],
          "name": "stderr"
        }
      ]
    },
    {
      "cell_type": "code",
      "metadata": {
        "id": "tq49WWHNP7-W",
        "colab_type": "code",
        "outputId": "248529a0-f353-4b86-be15-cfeec751e104",
        "colab": {
          "base_uri": "https://localhost:8080/",
          "height": 204
        }
      },
      "source": [
        "path = 'https://raw.githubusercontent.com/umangkejriwal1122/Machine-Learning/master/Data%20Sets/covid_india.csv'\n",
        "df = pd.read_csv(path)\n",
        "df.head()"
      ],
      "execution_count": 0,
      "outputs": [
        {
          "output_type": "execute_result",
          "data": {
            "text/html": [
              "<div>\n",
              "<style scoped>\n",
              "    .dataframe tbody tr th:only-of-type {\n",
              "        vertical-align: middle;\n",
              "    }\n",
              "\n",
              "    .dataframe tbody tr th {\n",
              "        vertical-align: top;\n",
              "    }\n",
              "\n",
              "    .dataframe thead th {\n",
              "        text-align: right;\n",
              "    }\n",
              "</style>\n",
              "<table border=\"1\" class=\"dataframe\">\n",
              "  <thead>\n",
              "    <tr style=\"text-align: right;\">\n",
              "      <th></th>\n",
              "      <th>state</th>\n",
              "      <th>active</th>\n",
              "      <th>confirmed</th>\n",
              "      <th>deaths</th>\n",
              "      <th>recovered</th>\n",
              "      <th>Lat</th>\n",
              "      <th>Long</th>\n",
              "    </tr>\n",
              "  </thead>\n",
              "  <tbody>\n",
              "    <tr>\n",
              "      <th>0</th>\n",
              "      <td>Maharashtra</td>\n",
              "      <td>5304</td>\n",
              "      <td>6427</td>\n",
              "      <td>283</td>\n",
              "      <td>840</td>\n",
              "      <td>19.7515</td>\n",
              "      <td>75.7139</td>\n",
              "    </tr>\n",
              "    <tr>\n",
              "      <th>1</th>\n",
              "      <td>Delhi</td>\n",
              "      <td>1518</td>\n",
              "      <td>2376</td>\n",
              "      <td>50</td>\n",
              "      <td>808</td>\n",
              "      <td>28.7041</td>\n",
              "      <td>77.1025</td>\n",
              "    </tr>\n",
              "    <tr>\n",
              "      <th>2</th>\n",
              "      <td>Gujarat</td>\n",
              "      <td>2254</td>\n",
              "      <td>2624</td>\n",
              "      <td>112</td>\n",
              "      <td>258</td>\n",
              "      <td>22.2587</td>\n",
              "      <td>71.1924</td>\n",
              "    </tr>\n",
              "    <tr>\n",
              "      <th>3</th>\n",
              "      <td>Rajasthan</td>\n",
              "      <td>1485</td>\n",
              "      <td>1964</td>\n",
              "      <td>28</td>\n",
              "      <td>451</td>\n",
              "      <td>27.0238</td>\n",
              "      <td>74.2179</td>\n",
              "    </tr>\n",
              "    <tr>\n",
              "      <th>4</th>\n",
              "      <td>Tamil Nadu</td>\n",
              "      <td>911</td>\n",
              "      <td>1683</td>\n",
              "      <td>20</td>\n",
              "      <td>752</td>\n",
              "      <td>11.1271</td>\n",
              "      <td>78.6569</td>\n",
              "    </tr>\n",
              "  </tbody>\n",
              "</table>\n",
              "</div>"
            ],
            "text/plain": [
              "         state  active  confirmed  deaths  recovered      Lat     Long\n",
              "0  Maharashtra    5304       6427     283        840  19.7515  75.7139\n",
              "1        Delhi    1518       2376      50        808  28.7041  77.1025\n",
              "2      Gujarat    2254       2624     112        258  22.2587  71.1924\n",
              "3    Rajasthan    1485       1964      28        451  27.0238  74.2179\n",
              "4   Tamil Nadu     911       1683      20        752  11.1271  78.6569"
            ]
          },
          "metadata": {
            "tags": []
          },
          "execution_count": 2
        }
      ]
    },
    {
      "cell_type": "code",
      "metadata": {
        "id": "tSH-ODffQA1M",
        "colab_type": "code",
        "outputId": "57bbeeaf-7e92-4a48-acca-699eb56007da",
        "colab": {
          "base_uri": "https://localhost:8080/",
          "height": 235
        }
      },
      "source": [
        "tot_active = df.groupby('state')['active'].sum().sort_values(ascending=False).to_frame()\n",
        "tot_active.head()"
      ],
      "execution_count": 0,
      "outputs": [
        {
          "output_type": "execute_result",
          "data": {
            "text/html": [
              "<div>\n",
              "<style scoped>\n",
              "    .dataframe tbody tr th:only-of-type {\n",
              "        vertical-align: middle;\n",
              "    }\n",
              "\n",
              "    .dataframe tbody tr th {\n",
              "        vertical-align: top;\n",
              "    }\n",
              "\n",
              "    .dataframe thead th {\n",
              "        text-align: right;\n",
              "    }\n",
              "</style>\n",
              "<table border=\"1\" class=\"dataframe\">\n",
              "  <thead>\n",
              "    <tr style=\"text-align: right;\">\n",
              "      <th></th>\n",
              "      <th>active</th>\n",
              "    </tr>\n",
              "    <tr>\n",
              "      <th>state</th>\n",
              "      <th></th>\n",
              "    </tr>\n",
              "  </thead>\n",
              "  <tbody>\n",
              "    <tr>\n",
              "      <th>Maharashtra</th>\n",
              "      <td>5304</td>\n",
              "    </tr>\n",
              "    <tr>\n",
              "      <th>Gujarat</th>\n",
              "      <td>2254</td>\n",
              "    </tr>\n",
              "    <tr>\n",
              "      <th>Delhi</th>\n",
              "      <td>1518</td>\n",
              "    </tr>\n",
              "    <tr>\n",
              "      <th>Rajasthan</th>\n",
              "      <td>1485</td>\n",
              "    </tr>\n",
              "    <tr>\n",
              "      <th>Madhya Pradesh</th>\n",
              "      <td>1401</td>\n",
              "    </tr>\n",
              "  </tbody>\n",
              "</table>\n",
              "</div>"
            ],
            "text/plain": [
              "                active\n",
              "state                 \n",
              "Maharashtra       5304\n",
              "Gujarat           2254\n",
              "Delhi             1518\n",
              "Rajasthan         1485\n",
              "Madhya Pradesh    1401"
            ]
          },
          "metadata": {
            "tags": []
          },
          "execution_count": 3
        }
      ]
    },
    {
      "cell_type": "code",
      "metadata": {
        "id": "Lxs3QOqlQD9C",
        "colab_type": "code",
        "outputId": "d985d24c-b71e-4b2a-9aae-8071b72dd08d",
        "colab": {
          "base_uri": "https://localhost:8080/",
          "height": 838
        }
      },
      "source": [
        "tot_active.style.background_gradient(cmap='Blues')"
      ],
      "execution_count": 0,
      "outputs": [
        {
          "output_type": "execute_result",
          "data": {
            "text/html": [
              "<style  type=\"text/css\" >\n",
              "    #T_9a0cc60e_8874_11ea_8f3d_0242ac1c0002row0_col0 {\n",
              "            background-color:  #08306b;\n",
              "            color:  #f1f1f1;\n",
              "        }    #T_9a0cc60e_8874_11ea_8f3d_0242ac1c0002row1_col0 {\n",
              "            background-color:  #8abfdd;\n",
              "            color:  #000000;\n",
              "        }    #T_9a0cc60e_8874_11ea_8f3d_0242ac1c0002row2_col0 {\n",
              "            background-color:  #bad6eb;\n",
              "            color:  #000000;\n",
              "        }    #T_9a0cc60e_8874_11ea_8f3d_0242ac1c0002row3_col0 {\n",
              "            background-color:  #bdd7ec;\n",
              "            color:  #000000;\n",
              "        }    #T_9a0cc60e_8874_11ea_8f3d_0242ac1c0002row4_col0 {\n",
              "            background-color:  #c2d9ee;\n",
              "            color:  #000000;\n",
              "        }    #T_9a0cc60e_8874_11ea_8f3d_0242ac1c0002row5_col0 {\n",
              "            background-color:  #c8dcf0;\n",
              "            color:  #000000;\n",
              "        }    #T_9a0cc60e_8874_11ea_8f3d_0242ac1c0002row6_col0 {\n",
              "            background-color:  #d6e5f4;\n",
              "            color:  #000000;\n",
              "        }    #T_9a0cc60e_8874_11ea_8f3d_0242ac1c0002row7_col0 {\n",
              "            background-color:  #dceaf6;\n",
              "            color:  #000000;\n",
              "        }    #T_9a0cc60e_8874_11ea_8f3d_0242ac1c0002row8_col0 {\n",
              "            background-color:  #ddeaf7;\n",
              "            color:  #000000;\n",
              "        }    #T_9a0cc60e_8874_11ea_8f3d_0242ac1c0002row9_col0 {\n",
              "            background-color:  #e7f1fa;\n",
              "            color:  #000000;\n",
              "        }    #T_9a0cc60e_8874_11ea_8f3d_0242ac1c0002row10_col0 {\n",
              "            background-color:  #eaf3fb;\n",
              "            color:  #000000;\n",
              "        }    #T_9a0cc60e_8874_11ea_8f3d_0242ac1c0002row11_col0 {\n",
              "            background-color:  #edf4fc;\n",
              "            color:  #000000;\n",
              "        }    #T_9a0cc60e_8874_11ea_8f3d_0242ac1c0002row12_col0 {\n",
              "            background-color:  #f0f6fd;\n",
              "            color:  #000000;\n",
              "        }    #T_9a0cc60e_8874_11ea_8f3d_0242ac1c0002row13_col0 {\n",
              "            background-color:  #f2f8fd;\n",
              "            color:  #000000;\n",
              "        }    #T_9a0cc60e_8874_11ea_8f3d_0242ac1c0002row14_col0 {\n",
              "            background-color:  #f3f8fe;\n",
              "            color:  #000000;\n",
              "        }    #T_9a0cc60e_8874_11ea_8f3d_0242ac1c0002row15_col0 {\n",
              "            background-color:  #f4f9fe;\n",
              "            color:  #000000;\n",
              "        }    #T_9a0cc60e_8874_11ea_8f3d_0242ac1c0002row16_col0 {\n",
              "            background-color:  #f5fafe;\n",
              "            color:  #000000;\n",
              "        }    #T_9a0cc60e_8874_11ea_8f3d_0242ac1c0002row17_col0 {\n",
              "            background-color:  #f5fafe;\n",
              "            color:  #000000;\n",
              "        }    #T_9a0cc60e_8874_11ea_8f3d_0242ac1c0002row18_col0 {\n",
              "            background-color:  #f6faff;\n",
              "            color:  #000000;\n",
              "        }    #T_9a0cc60e_8874_11ea_8f3d_0242ac1c0002row19_col0 {\n",
              "            background-color:  #f7fbff;\n",
              "            color:  #000000;\n",
              "        }    #T_9a0cc60e_8874_11ea_8f3d_0242ac1c0002row20_col0 {\n",
              "            background-color:  #f7fbff;\n",
              "            color:  #000000;\n",
              "        }    #T_9a0cc60e_8874_11ea_8f3d_0242ac1c0002row21_col0 {\n",
              "            background-color:  #f7fbff;\n",
              "            color:  #000000;\n",
              "        }    #T_9a0cc60e_8874_11ea_8f3d_0242ac1c0002row22_col0 {\n",
              "            background-color:  #f7fbff;\n",
              "            color:  #000000;\n",
              "        }    #T_9a0cc60e_8874_11ea_8f3d_0242ac1c0002row23_col0 {\n",
              "            background-color:  #f7fbff;\n",
              "            color:  #000000;\n",
              "        }    #T_9a0cc60e_8874_11ea_8f3d_0242ac1c0002row24_col0 {\n",
              "            background-color:  #f7fbff;\n",
              "            color:  #000000;\n",
              "        }    #T_9a0cc60e_8874_11ea_8f3d_0242ac1c0002row25_col0 {\n",
              "            background-color:  #f7fbff;\n",
              "            color:  #000000;\n",
              "        }    #T_9a0cc60e_8874_11ea_8f3d_0242ac1c0002row26_col0 {\n",
              "            background-color:  #f7fbff;\n",
              "            color:  #000000;\n",
              "        }    #T_9a0cc60e_8874_11ea_8f3d_0242ac1c0002row27_col0 {\n",
              "            background-color:  #f7fbff;\n",
              "            color:  #000000;\n",
              "        }    #T_9a0cc60e_8874_11ea_8f3d_0242ac1c0002row28_col0 {\n",
              "            background-color:  #f7fbff;\n",
              "            color:  #000000;\n",
              "        }    #T_9a0cc60e_8874_11ea_8f3d_0242ac1c0002row29_col0 {\n",
              "            background-color:  #f7fbff;\n",
              "            color:  #000000;\n",
              "        }    #T_9a0cc60e_8874_11ea_8f3d_0242ac1c0002row30_col0 {\n",
              "            background-color:  #f7fbff;\n",
              "            color:  #000000;\n",
              "        }    #T_9a0cc60e_8874_11ea_8f3d_0242ac1c0002row31_col0 {\n",
              "            background-color:  #f7fbff;\n",
              "            color:  #000000;\n",
              "        }    #T_9a0cc60e_8874_11ea_8f3d_0242ac1c0002row32_col0 {\n",
              "            background-color:  #f7fbff;\n",
              "            color:  #000000;\n",
              "        }    #T_9a0cc60e_8874_11ea_8f3d_0242ac1c0002row33_col0 {\n",
              "            background-color:  #f7fbff;\n",
              "            color:  #000000;\n",
              "        }    #T_9a0cc60e_8874_11ea_8f3d_0242ac1c0002row34_col0 {\n",
              "            background-color:  #f7fbff;\n",
              "            color:  #000000;\n",
              "        }    #T_9a0cc60e_8874_11ea_8f3d_0242ac1c0002row35_col0 {\n",
              "            background-color:  #f7fbff;\n",
              "            color:  #000000;\n",
              "        }    #T_9a0cc60e_8874_11ea_8f3d_0242ac1c0002row36_col0 {\n",
              "            background-color:  #f7fbff;\n",
              "            color:  #000000;\n",
              "        }</style><table id=\"T_9a0cc60e_8874_11ea_8f3d_0242ac1c0002\" ><thead>    <tr>        <th class=\"blank level0\" ></th>        <th class=\"col_heading level0 col0\" >active</th>    </tr>    <tr>        <th class=\"index_name level0\" >state</th>        <th class=\"blank\" ></th>    </tr></thead><tbody>\n",
              "                <tr>\n",
              "                        <th id=\"T_9a0cc60e_8874_11ea_8f3d_0242ac1c0002level0_row0\" class=\"row_heading level0 row0\" >Maharashtra</th>\n",
              "                        <td id=\"T_9a0cc60e_8874_11ea_8f3d_0242ac1c0002row0_col0\" class=\"data row0 col0\" >5304</td>\n",
              "            </tr>\n",
              "            <tr>\n",
              "                        <th id=\"T_9a0cc60e_8874_11ea_8f3d_0242ac1c0002level0_row1\" class=\"row_heading level0 row1\" >Gujarat</th>\n",
              "                        <td id=\"T_9a0cc60e_8874_11ea_8f3d_0242ac1c0002row1_col0\" class=\"data row1 col0\" >2254</td>\n",
              "            </tr>\n",
              "            <tr>\n",
              "                        <th id=\"T_9a0cc60e_8874_11ea_8f3d_0242ac1c0002level0_row2\" class=\"row_heading level0 row2\" >Delhi</th>\n",
              "                        <td id=\"T_9a0cc60e_8874_11ea_8f3d_0242ac1c0002row2_col0\" class=\"data row2 col0\" >1518</td>\n",
              "            </tr>\n",
              "            <tr>\n",
              "                        <th id=\"T_9a0cc60e_8874_11ea_8f3d_0242ac1c0002level0_row3\" class=\"row_heading level0 row3\" >Rajasthan</th>\n",
              "                        <td id=\"T_9a0cc60e_8874_11ea_8f3d_0242ac1c0002row3_col0\" class=\"data row3 col0\" >1485</td>\n",
              "            </tr>\n",
              "            <tr>\n",
              "                        <th id=\"T_9a0cc60e_8874_11ea_8f3d_0242ac1c0002level0_row4\" class=\"row_heading level0 row4\" >Madhya Pradesh</th>\n",
              "                        <td id=\"T_9a0cc60e_8874_11ea_8f3d_0242ac1c0002row4_col0\" class=\"data row4 col0\" >1401</td>\n",
              "            </tr>\n",
              "            <tr>\n",
              "                        <th id=\"T_9a0cc60e_8874_11ea_8f3d_0242ac1c0002level0_row5\" class=\"row_heading level0 row5\" >Uttar Pradesh</th>\n",
              "                        <td id=\"T_9a0cc60e_8874_11ea_8f3d_0242ac1c0002row5_col0\" class=\"data row5 col0\" >1280</td>\n",
              "            </tr>\n",
              "            <tr>\n",
              "                        <th id=\"T_9a0cc60e_8874_11ea_8f3d_0242ac1c0002level0_row6\" class=\"row_heading level0 row6\" >Tamil Nadu</th>\n",
              "                        <td id=\"T_9a0cc60e_8874_11ea_8f3d_0242ac1c0002row6_col0\" class=\"data row6 col0\" >911</td>\n",
              "            </tr>\n",
              "            <tr>\n",
              "                        <th id=\"T_9a0cc60e_8874_11ea_8f3d_0242ac1c0002level0_row7\" class=\"row_heading level0 row7\" >Andhra Pradesh</th>\n",
              "                        <td id=\"T_9a0cc60e_8874_11ea_8f3d_0242ac1c0002row7_col0\" class=\"data row7 col0\" >725</td>\n",
              "            </tr>\n",
              "            <tr>\n",
              "                        <th id=\"T_9a0cc60e_8874_11ea_8f3d_0242ac1c0002level0_row8\" class=\"row_heading level0 row8\" >Telangana</th>\n",
              "                        <td id=\"T_9a0cc60e_8874_11ea_8f3d_0242ac1c0002row8_col0\" class=\"data row8 col0\" >693</td>\n",
              "            </tr>\n",
              "            <tr>\n",
              "                        <th id=\"T_9a0cc60e_8874_11ea_8f3d_0242ac1c0002level0_row9\" class=\"row_heading level0 row9\" >West Bengal</th>\n",
              "                        <td id=\"T_9a0cc60e_8874_11ea_8f3d_0242ac1c0002row9_col0\" class=\"data row9 col0\" >420</td>\n",
              "            </tr>\n",
              "            <tr>\n",
              "                        <th id=\"T_9a0cc60e_8874_11ea_8f3d_0242ac1c0002level0_row10\" class=\"row_heading level0 row10\" >Jammu and Kashmir</th>\n",
              "                        <td id=\"T_9a0cc60e_8874_11ea_8f3d_0242ac1c0002row10_col0\" class=\"data row10 col0\" >337</td>\n",
              "            </tr>\n",
              "            <tr>\n",
              "                        <th id=\"T_9a0cc60e_8874_11ea_8f3d_0242ac1c0002level0_row11\" class=\"row_heading level0 row11\" >Karnataka</th>\n",
              "                        <td id=\"T_9a0cc60e_8874_11ea_8f3d_0242ac1c0002row11_col0\" class=\"data row11 col0\" >283</td>\n",
              "            </tr>\n",
              "            <tr>\n",
              "                        <th id=\"T_9a0cc60e_8874_11ea_8f3d_0242ac1c0002level0_row12\" class=\"row_heading level0 row12\" >Punjab</th>\n",
              "                        <td id=\"T_9a0cc60e_8874_11ea_8f3d_0242ac1c0002row12_col0\" class=\"data row12 col0\" >200</td>\n",
              "            </tr>\n",
              "            <tr>\n",
              "                        <th id=\"T_9a0cc60e_8874_11ea_8f3d_0242ac1c0002level0_row13\" class=\"row_heading level0 row13\" >Kerala</th>\n",
              "                        <td id=\"T_9a0cc60e_8874_11ea_8f3d_0242ac1c0002row13_col0\" class=\"data row13 col0\" >129</td>\n",
              "            </tr>\n",
              "            <tr>\n",
              "                        <th id=\"T_9a0cc60e_8874_11ea_8f3d_0242ac1c0002level0_row14\" class=\"row_heading level0 row14\" >Bihar</th>\n",
              "                        <td id=\"T_9a0cc60e_8874_11ea_8f3d_0242ac1c0002row14_col0\" class=\"data row14 col0\" >124</td>\n",
              "            </tr>\n",
              "            <tr>\n",
              "                        <th id=\"T_9a0cc60e_8874_11ea_8f3d_0242ac1c0002level0_row15\" class=\"row_heading level0 row15\" >Haryana</th>\n",
              "                        <td id=\"T_9a0cc60e_8874_11ea_8f3d_0242ac1c0002row15_col0\" class=\"data row15 col0\" >97</td>\n",
              "            </tr>\n",
              "            <tr>\n",
              "                        <th id=\"T_9a0cc60e_8874_11ea_8f3d_0242ac1c0002level0_row16\" class=\"row_heading level0 row16\" >Odisha</th>\n",
              "                        <td id=\"T_9a0cc60e_8874_11ea_8f3d_0242ac1c0002row16_col0\" class=\"data row16 col0\" >55</td>\n",
              "            </tr>\n",
              "            <tr>\n",
              "                        <th id=\"T_9a0cc60e_8874_11ea_8f3d_0242ac1c0002level0_row17\" class=\"row_heading level0 row17\" >Jharkhand</th>\n",
              "                        <td id=\"T_9a0cc60e_8874_11ea_8f3d_0242ac1c0002row17_col0\" class=\"data row17 col0\" >42</td>\n",
              "            </tr>\n",
              "            <tr>\n",
              "                        <th id=\"T_9a0cc60e_8874_11ea_8f3d_0242ac1c0002level0_row18\" class=\"row_heading level0 row18\" >Uttarakhand</th>\n",
              "                        <td id=\"T_9a0cc60e_8874_11ea_8f3d_0242ac1c0002row18_col0\" class=\"data row18 col0\" >23</td>\n",
              "            </tr>\n",
              "            <tr>\n",
              "                        <th id=\"T_9a0cc60e_8874_11ea_8f3d_0242ac1c0002level0_row19\" class=\"row_heading level0 row19\" >Himachal Pradesh</th>\n",
              "                        <td id=\"T_9a0cc60e_8874_11ea_8f3d_0242ac1c0002row19_col0\" class=\"data row19 col0\" >20</td>\n",
              "            </tr>\n",
              "            <tr>\n",
              "                        <th id=\"T_9a0cc60e_8874_11ea_8f3d_0242ac1c0002level0_row20\" class=\"row_heading level0 row20\" >Assam</th>\n",
              "                        <td id=\"T_9a0cc60e_8874_11ea_8f3d_0242ac1c0002row20_col0\" class=\"data row20 col0\" >16</td>\n",
              "            </tr>\n",
              "            <tr>\n",
              "                        <th id=\"T_9a0cc60e_8874_11ea_8f3d_0242ac1c0002level0_row21\" class=\"row_heading level0 row21\" >Chandigarh</th>\n",
              "                        <td id=\"T_9a0cc60e_8874_11ea_8f3d_0242ac1c0002row21_col0\" class=\"data row21 col0\" >13</td>\n",
              "            </tr>\n",
              "            <tr>\n",
              "                        <th id=\"T_9a0cc60e_8874_11ea_8f3d_0242ac1c0002level0_row22\" class=\"row_heading level0 row22\" >Andaman and Nicobar Islands</th>\n",
              "                        <td id=\"T_9a0cc60e_8874_11ea_8f3d_0242ac1c0002row22_col0\" class=\"data row22 col0\" >11</td>\n",
              "            </tr>\n",
              "            <tr>\n",
              "                        <th id=\"T_9a0cc60e_8874_11ea_8f3d_0242ac1c0002level0_row23\" class=\"row_heading level0 row23\" >Meghalaya</th>\n",
              "                        <td id=\"T_9a0cc60e_8874_11ea_8f3d_0242ac1c0002row23_col0\" class=\"data row23 col0\" >11</td>\n",
              "            </tr>\n",
              "            <tr>\n",
              "                        <th id=\"T_9a0cc60e_8874_11ea_8f3d_0242ac1c0002level0_row24\" class=\"row_heading level0 row24\" >Chhattisgarh</th>\n",
              "                        <td id=\"T_9a0cc60e_8874_11ea_8f3d_0242ac1c0002row24_col0\" class=\"data row24 col0\" >6</td>\n",
              "            </tr>\n",
              "            <tr>\n",
              "                        <th id=\"T_9a0cc60e_8874_11ea_8f3d_0242ac1c0002level0_row25\" class=\"row_heading level0 row25\" >Puducherry</th>\n",
              "                        <td id=\"T_9a0cc60e_8874_11ea_8f3d_0242ac1c0002row25_col0\" class=\"data row25 col0\" >3</td>\n",
              "            </tr>\n",
              "            <tr>\n",
              "                        <th id=\"T_9a0cc60e_8874_11ea_8f3d_0242ac1c0002level0_row26\" class=\"row_heading level0 row26\" >Ladakh</th>\n",
              "                        <td id=\"T_9a0cc60e_8874_11ea_8f3d_0242ac1c0002row26_col0\" class=\"data row26 col0\" >2</td>\n",
              "            </tr>\n",
              "            <tr>\n",
              "                        <th id=\"T_9a0cc60e_8874_11ea_8f3d_0242ac1c0002level0_row27\" class=\"row_heading level0 row27\" >Mizoram</th>\n",
              "                        <td id=\"T_9a0cc60e_8874_11ea_8f3d_0242ac1c0002row27_col0\" class=\"data row27 col0\" >1</td>\n",
              "            </tr>\n",
              "            <tr>\n",
              "                        <th id=\"T_9a0cc60e_8874_11ea_8f3d_0242ac1c0002level0_row28\" class=\"row_heading level0 row28\" >Lakshadweep</th>\n",
              "                        <td id=\"T_9a0cc60e_8874_11ea_8f3d_0242ac1c0002row28_col0\" class=\"data row28 col0\" >0</td>\n",
              "            </tr>\n",
              "            <tr>\n",
              "                        <th id=\"T_9a0cc60e_8874_11ea_8f3d_0242ac1c0002level0_row29\" class=\"row_heading level0 row29\" >Manipur</th>\n",
              "                        <td id=\"T_9a0cc60e_8874_11ea_8f3d_0242ac1c0002row29_col0\" class=\"data row29 col0\" >0</td>\n",
              "            </tr>\n",
              "            <tr>\n",
              "                        <th id=\"T_9a0cc60e_8874_11ea_8f3d_0242ac1c0002level0_row30\" class=\"row_heading level0 row30\" >Goa</th>\n",
              "                        <td id=\"T_9a0cc60e_8874_11ea_8f3d_0242ac1c0002row30_col0\" class=\"data row30 col0\" >0</td>\n",
              "            </tr>\n",
              "            <tr>\n",
              "                        <th id=\"T_9a0cc60e_8874_11ea_8f3d_0242ac1c0002level0_row31\" class=\"row_heading level0 row31\" >Daman and Diu</th>\n",
              "                        <td id=\"T_9a0cc60e_8874_11ea_8f3d_0242ac1c0002row31_col0\" class=\"data row31 col0\" >0</td>\n",
              "            </tr>\n",
              "            <tr>\n",
              "                        <th id=\"T_9a0cc60e_8874_11ea_8f3d_0242ac1c0002level0_row32\" class=\"row_heading level0 row32\" >Dadra and Nagar Haveli</th>\n",
              "                        <td id=\"T_9a0cc60e_8874_11ea_8f3d_0242ac1c0002row32_col0\" class=\"data row32 col0\" >0</td>\n",
              "            </tr>\n",
              "            <tr>\n",
              "                        <th id=\"T_9a0cc60e_8874_11ea_8f3d_0242ac1c0002level0_row33\" class=\"row_heading level0 row33\" >Nagaland</th>\n",
              "                        <td id=\"T_9a0cc60e_8874_11ea_8f3d_0242ac1c0002row33_col0\" class=\"data row33 col0\" >0</td>\n",
              "            </tr>\n",
              "            <tr>\n",
              "                        <th id=\"T_9a0cc60e_8874_11ea_8f3d_0242ac1c0002level0_row34\" class=\"row_heading level0 row34\" >Sikkim</th>\n",
              "                        <td id=\"T_9a0cc60e_8874_11ea_8f3d_0242ac1c0002row34_col0\" class=\"data row34 col0\" >0</td>\n",
              "            </tr>\n",
              "            <tr>\n",
              "                        <th id=\"T_9a0cc60e_8874_11ea_8f3d_0242ac1c0002level0_row35\" class=\"row_heading level0 row35\" >Arunachal Pradesh</th>\n",
              "                        <td id=\"T_9a0cc60e_8874_11ea_8f3d_0242ac1c0002row35_col0\" class=\"data row35 col0\" >0</td>\n",
              "            </tr>\n",
              "            <tr>\n",
              "                        <th id=\"T_9a0cc60e_8874_11ea_8f3d_0242ac1c0002level0_row36\" class=\"row_heading level0 row36\" >Tripura</th>\n",
              "                        <td id=\"T_9a0cc60e_8874_11ea_8f3d_0242ac1c0002row36_col0\" class=\"data row36 col0\" >0</td>\n",
              "            </tr>\n",
              "    </tbody></table>"
            ],
            "text/plain": [
              "<pandas.io.formats.style.Styler at 0x7f98f5c144e0>"
            ]
          },
          "metadata": {
            "tags": []
          },
          "execution_count": 4
        }
      ]
    },
    {
      "cell_type": "code",
      "metadata": {
        "id": "elKCoVCIQHbf",
        "colab_type": "code",
        "outputId": "e916880a-7fe7-4712-e97c-ae1ca848e6ac",
        "colab": {
          "base_uri": "https://localhost:8080/",
          "height": 204
        }
      },
      "source": [
        "### Total vs Cured Plot\n",
        "df.head()"
      ],
      "execution_count": 0,
      "outputs": [
        {
          "output_type": "execute_result",
          "data": {
            "text/html": [
              "<div>\n",
              "<style scoped>\n",
              "    .dataframe tbody tr th:only-of-type {\n",
              "        vertical-align: middle;\n",
              "    }\n",
              "\n",
              "    .dataframe tbody tr th {\n",
              "        vertical-align: top;\n",
              "    }\n",
              "\n",
              "    .dataframe thead th {\n",
              "        text-align: right;\n",
              "    }\n",
              "</style>\n",
              "<table border=\"1\" class=\"dataframe\">\n",
              "  <thead>\n",
              "    <tr style=\"text-align: right;\">\n",
              "      <th></th>\n",
              "      <th>state</th>\n",
              "      <th>active</th>\n",
              "      <th>confirmed</th>\n",
              "      <th>deaths</th>\n",
              "      <th>recovered</th>\n",
              "      <th>Lat</th>\n",
              "      <th>Long</th>\n",
              "    </tr>\n",
              "  </thead>\n",
              "  <tbody>\n",
              "    <tr>\n",
              "      <th>0</th>\n",
              "      <td>Maharashtra</td>\n",
              "      <td>5304</td>\n",
              "      <td>6427</td>\n",
              "      <td>283</td>\n",
              "      <td>840</td>\n",
              "      <td>19.7515</td>\n",
              "      <td>75.7139</td>\n",
              "    </tr>\n",
              "    <tr>\n",
              "      <th>1</th>\n",
              "      <td>Delhi</td>\n",
              "      <td>1518</td>\n",
              "      <td>2376</td>\n",
              "      <td>50</td>\n",
              "      <td>808</td>\n",
              "      <td>28.7041</td>\n",
              "      <td>77.1025</td>\n",
              "    </tr>\n",
              "    <tr>\n",
              "      <th>2</th>\n",
              "      <td>Gujarat</td>\n",
              "      <td>2254</td>\n",
              "      <td>2624</td>\n",
              "      <td>112</td>\n",
              "      <td>258</td>\n",
              "      <td>22.2587</td>\n",
              "      <td>71.1924</td>\n",
              "    </tr>\n",
              "    <tr>\n",
              "      <th>3</th>\n",
              "      <td>Rajasthan</td>\n",
              "      <td>1485</td>\n",
              "      <td>1964</td>\n",
              "      <td>28</td>\n",
              "      <td>451</td>\n",
              "      <td>27.0238</td>\n",
              "      <td>74.2179</td>\n",
              "    </tr>\n",
              "    <tr>\n",
              "      <th>4</th>\n",
              "      <td>Tamil Nadu</td>\n",
              "      <td>911</td>\n",
              "      <td>1683</td>\n",
              "      <td>20</td>\n",
              "      <td>752</td>\n",
              "      <td>11.1271</td>\n",
              "      <td>78.6569</td>\n",
              "    </tr>\n",
              "  </tbody>\n",
              "</table>\n",
              "</div>"
            ],
            "text/plain": [
              "         state  active  confirmed  deaths  recovered      Lat     Long\n",
              "0  Maharashtra    5304       6427     283        840  19.7515  75.7139\n",
              "1        Delhi    1518       2376      50        808  28.7041  77.1025\n",
              "2      Gujarat    2254       2624     112        258  22.2587  71.1924\n",
              "3    Rajasthan    1485       1964      28        451  27.0238  74.2179\n",
              "4   Tamil Nadu     911       1683      20        752  11.1271  78.6569"
            ]
          },
          "metadata": {
            "tags": []
          },
          "execution_count": 5
        }
      ]
    },
    {
      "cell_type": "code",
      "metadata": {
        "id": "hXpui9VbQVRp",
        "colab_type": "code",
        "outputId": "f6b20099-9cc8-4dda-c339-e6f827bf4e8b",
        "colab": {
          "base_uri": "https://localhost:8080/",
          "height": 204
        }
      },
      "source": [
        "data = df[['state','confirmed','active','deaths','recovered']]\n",
        "data.head()"
      ],
      "execution_count": 0,
      "outputs": [
        {
          "output_type": "execute_result",
          "data": {
            "text/html": [
              "<div>\n",
              "<style scoped>\n",
              "    .dataframe tbody tr th:only-of-type {\n",
              "        vertical-align: middle;\n",
              "    }\n",
              "\n",
              "    .dataframe tbody tr th {\n",
              "        vertical-align: top;\n",
              "    }\n",
              "\n",
              "    .dataframe thead th {\n",
              "        text-align: right;\n",
              "    }\n",
              "</style>\n",
              "<table border=\"1\" class=\"dataframe\">\n",
              "  <thead>\n",
              "    <tr style=\"text-align: right;\">\n",
              "      <th></th>\n",
              "      <th>state</th>\n",
              "      <th>confirmed</th>\n",
              "      <th>active</th>\n",
              "      <th>deaths</th>\n",
              "      <th>recovered</th>\n",
              "    </tr>\n",
              "  </thead>\n",
              "  <tbody>\n",
              "    <tr>\n",
              "      <th>0</th>\n",
              "      <td>Maharashtra</td>\n",
              "      <td>6427</td>\n",
              "      <td>5304</td>\n",
              "      <td>283</td>\n",
              "      <td>840</td>\n",
              "    </tr>\n",
              "    <tr>\n",
              "      <th>1</th>\n",
              "      <td>Delhi</td>\n",
              "      <td>2376</td>\n",
              "      <td>1518</td>\n",
              "      <td>50</td>\n",
              "      <td>808</td>\n",
              "    </tr>\n",
              "    <tr>\n",
              "      <th>2</th>\n",
              "      <td>Gujarat</td>\n",
              "      <td>2624</td>\n",
              "      <td>2254</td>\n",
              "      <td>112</td>\n",
              "      <td>258</td>\n",
              "    </tr>\n",
              "    <tr>\n",
              "      <th>3</th>\n",
              "      <td>Rajasthan</td>\n",
              "      <td>1964</td>\n",
              "      <td>1485</td>\n",
              "      <td>28</td>\n",
              "      <td>451</td>\n",
              "    </tr>\n",
              "    <tr>\n",
              "      <th>4</th>\n",
              "      <td>Tamil Nadu</td>\n",
              "      <td>1683</td>\n",
              "      <td>911</td>\n",
              "      <td>20</td>\n",
              "      <td>752</td>\n",
              "    </tr>\n",
              "  </tbody>\n",
              "</table>\n",
              "</div>"
            ],
            "text/plain": [
              "         state  confirmed  active  deaths  recovered\n",
              "0  Maharashtra       6427    5304     283        840\n",
              "1        Delhi       2376    1518      50        808\n",
              "2      Gujarat       2624    2254     112        258\n",
              "3    Rajasthan       1964    1485      28        451\n",
              "4   Tamil Nadu       1683     911      20        752"
            ]
          },
          "metadata": {
            "tags": []
          },
          "execution_count": 6
        }
      ]
    },
    {
      "cell_type": "code",
      "metadata": {
        "id": "_ZR_dOgMQb_-",
        "colab_type": "code",
        "outputId": "5f5f2867-5ebb-4dbd-cc97-a97c5b2c7d08",
        "colab": {
          "base_uri": "https://localhost:8080/",
          "height": 204
        }
      },
      "source": [
        "data = df[['state','confirmed','active','deaths','recovered']]\n",
        "data.head()"
      ],
      "execution_count": 0,
      "outputs": [
        {
          "output_type": "execute_result",
          "data": {
            "text/html": [
              "<div>\n",
              "<style scoped>\n",
              "    .dataframe tbody tr th:only-of-type {\n",
              "        vertical-align: middle;\n",
              "    }\n",
              "\n",
              "    .dataframe tbody tr th {\n",
              "        vertical-align: top;\n",
              "    }\n",
              "\n",
              "    .dataframe thead th {\n",
              "        text-align: right;\n",
              "    }\n",
              "</style>\n",
              "<table border=\"1\" class=\"dataframe\">\n",
              "  <thead>\n",
              "    <tr style=\"text-align: right;\">\n",
              "      <th></th>\n",
              "      <th>state</th>\n",
              "      <th>confirmed</th>\n",
              "      <th>active</th>\n",
              "      <th>deaths</th>\n",
              "      <th>recovered</th>\n",
              "    </tr>\n",
              "  </thead>\n",
              "  <tbody>\n",
              "    <tr>\n",
              "      <th>0</th>\n",
              "      <td>Maharashtra</td>\n",
              "      <td>6427</td>\n",
              "      <td>5304</td>\n",
              "      <td>283</td>\n",
              "      <td>840</td>\n",
              "    </tr>\n",
              "    <tr>\n",
              "      <th>1</th>\n",
              "      <td>Delhi</td>\n",
              "      <td>2376</td>\n",
              "      <td>1518</td>\n",
              "      <td>50</td>\n",
              "      <td>808</td>\n",
              "    </tr>\n",
              "    <tr>\n",
              "      <th>2</th>\n",
              "      <td>Gujarat</td>\n",
              "      <td>2624</td>\n",
              "      <td>2254</td>\n",
              "      <td>112</td>\n",
              "      <td>258</td>\n",
              "    </tr>\n",
              "    <tr>\n",
              "      <th>3</th>\n",
              "      <td>Rajasthan</td>\n",
              "      <td>1964</td>\n",
              "      <td>1485</td>\n",
              "      <td>28</td>\n",
              "      <td>451</td>\n",
              "    </tr>\n",
              "    <tr>\n",
              "      <th>4</th>\n",
              "      <td>Tamil Nadu</td>\n",
              "      <td>1683</td>\n",
              "      <td>911</td>\n",
              "      <td>20</td>\n",
              "      <td>752</td>\n",
              "    </tr>\n",
              "  </tbody>\n",
              "</table>\n",
              "</div>"
            ],
            "text/plain": [
              "         state  confirmed  active  deaths  recovered\n",
              "0  Maharashtra       6427    5304     283        840\n",
              "1        Delhi       2376    1518      50        808\n",
              "2      Gujarat       2624    2254     112        258\n",
              "3    Rajasthan       1964    1485      28        451\n",
              "4   Tamil Nadu       1683     911      20        752"
            ]
          },
          "metadata": {
            "tags": []
          },
          "execution_count": 7
        }
      ]
    },
    {
      "cell_type": "code",
      "metadata": {
        "id": "pXAzIg59Q6Eb",
        "colab_type": "code",
        "outputId": "6cf2c8e0-4e39-4360-8043-7bb9bf315c6e",
        "colab": {
          "base_uri": "https://localhost:8080/",
          "height": 136
        }
      },
      "source": [
        "data.sort_values('confirmed',ascending=False,inplace=True)\n"
      ],
      "execution_count": 0,
      "outputs": [
        {
          "output_type": "stream",
          "text": [
            "/usr/local/lib/python3.6/dist-packages/ipykernel_launcher.py:1: SettingWithCopyWarning:\n",
            "\n",
            "\n",
            "A value is trying to be set on a copy of a slice from a DataFrame\n",
            "\n",
            "See the caveats in the documentation: https://pandas.pydata.org/pandas-docs/stable/user_guide/indexing.html#returning-a-view-versus-a-copy\n",
            "\n"
          ],
          "name": "stderr"
        }
      ]
    },
    {
      "cell_type": "code",
      "metadata": {
        "id": "Te3-bQsLRCTg",
        "colab_type": "code",
        "outputId": "f0ccab0f-8109-4187-8aa5-867973f53ea0",
        "colab": {
          "base_uri": "https://localhost:8080/",
          "height": 204
        }
      },
      "source": [
        "data.head()"
      ],
      "execution_count": 0,
      "outputs": [
        {
          "output_type": "execute_result",
          "data": {
            "text/html": [
              "<div>\n",
              "<style scoped>\n",
              "    .dataframe tbody tr th:only-of-type {\n",
              "        vertical-align: middle;\n",
              "    }\n",
              "\n",
              "    .dataframe tbody tr th {\n",
              "        vertical-align: top;\n",
              "    }\n",
              "\n",
              "    .dataframe thead th {\n",
              "        text-align: right;\n",
              "    }\n",
              "</style>\n",
              "<table border=\"1\" class=\"dataframe\">\n",
              "  <thead>\n",
              "    <tr style=\"text-align: right;\">\n",
              "      <th></th>\n",
              "      <th>state</th>\n",
              "      <th>confirmed</th>\n",
              "      <th>active</th>\n",
              "      <th>deaths</th>\n",
              "      <th>recovered</th>\n",
              "    </tr>\n",
              "  </thead>\n",
              "  <tbody>\n",
              "    <tr>\n",
              "      <th>0</th>\n",
              "      <td>Maharashtra</td>\n",
              "      <td>6427</td>\n",
              "      <td>5304</td>\n",
              "      <td>283</td>\n",
              "      <td>840</td>\n",
              "    </tr>\n",
              "    <tr>\n",
              "      <th>2</th>\n",
              "      <td>Gujarat</td>\n",
              "      <td>2624</td>\n",
              "      <td>2254</td>\n",
              "      <td>112</td>\n",
              "      <td>258</td>\n",
              "    </tr>\n",
              "    <tr>\n",
              "      <th>1</th>\n",
              "      <td>Delhi</td>\n",
              "      <td>2376</td>\n",
              "      <td>1518</td>\n",
              "      <td>50</td>\n",
              "      <td>808</td>\n",
              "    </tr>\n",
              "    <tr>\n",
              "      <th>3</th>\n",
              "      <td>Rajasthan</td>\n",
              "      <td>1964</td>\n",
              "      <td>1485</td>\n",
              "      <td>28</td>\n",
              "      <td>451</td>\n",
              "    </tr>\n",
              "    <tr>\n",
              "      <th>5</th>\n",
              "      <td>Madhya Pradesh</td>\n",
              "      <td>1687</td>\n",
              "      <td>1401</td>\n",
              "      <td>83</td>\n",
              "      <td>203</td>\n",
              "    </tr>\n",
              "  </tbody>\n",
              "</table>\n",
              "</div>"
            ],
            "text/plain": [
              "            state  confirmed  active  deaths  recovered\n",
              "0     Maharashtra       6427    5304     283        840\n",
              "2         Gujarat       2624    2254     112        258\n",
              "1           Delhi       2376    1518      50        808\n",
              "3       Rajasthan       1964    1485      28        451\n",
              "5  Madhya Pradesh       1687    1401      83        203"
            ]
          },
          "metadata": {
            "tags": []
          },
          "execution_count": 9
        }
      ]
    },
    {
      "cell_type": "code",
      "metadata": {
        "id": "Bfc6Cpl0RGs0",
        "colab_type": "code",
        "outputId": "ce17f578-48a3-4844-fdc4-6d02e6f2672e",
        "colab": {
          "base_uri": "https://localhost:8080/",
          "height": 280
        }
      },
      "source": [
        "### plot confirmed vs cured\n",
        "sns.barplot(data['confirmed'],data['state'],color='red',label='Confirmed')\n",
        "sns.barplot(data['recovered'],data['state'],color='green',)\n",
        "plt.show()"
      ],
      "execution_count": 0,
      "outputs": [
        {
          "output_type": "display_data",
          "data": {
            "image/png": "[encoded data removed]",
            "text/plain": [
              "<Figure size 432x288 with 1 Axes>"
            ]
          },
          "metadata": {
            "tags": [],
            "needs_background": "light"
          }
        }
      ]
    },
    {
      "cell_type": "code",
      "metadata": {
        "id": "DJkzPN4URTUV",
        "colab_type": "code",
        "outputId": "9661283d-9409-4499-ad90-157788426554",
        "colab": {
          "base_uri": "https://localhost:8080/",
          "height": 497
        }
      },
      "source": [
        "### plot confirmed vs cured\n",
        "plt.figure(figsize=(10,8))\n",
        "sns.barplot(data['confirmed'],data['state'],color='red',label='Confirmed')\n",
        "sns.barplot(data['recovered'],data['state'],color='green',label='Recovered')\n",
        "plt.legend(loc=4)\n",
        "plt.show()"
      ],
      "execution_count": 0,
      "outputs": [
        {
          "output_type": "display_data",
          "data": {
            "image/png": "[encoded data removed]",
            "text/plain": [
              "<Figure size 720x576 with 1 Axes>"
            ]
          },
          "metadata": {
            "tags": [],
            "needs_background": "light"
          }
        }
      ]
    },
    {
      "cell_type": "code",
      "metadata": {
        "id": "nthD5IttRchS",
        "colab_type": "code",
        "outputId": "0bba01fa-069d-447c-837c-9f0faf8d3997",
        "colab": {
          "base_uri": "https://localhost:8080/",
          "height": 497
        }
      },
      "source": [
        "### plot confirmed vs cured\n",
        "plt.figure(figsize=(10,8))\n",
        "sns.barplot(data['confirmed'],data['state'],color='red',label='Confirmed',alpha=0.5)\n",
        "sns.barplot(data['recovered'],data['state'],color='green',label='Recovered')\n",
        "plt.legend(loc=4)\n",
        "plt.show()"
      ],
      "execution_count": 0,
      "outputs": [
        {
          "output_type": "display_data",
          "data": {
            "image/png": "[encoded data removed]",
            "text/plain": [
              "<Figure size 720x576 with 1 Axes>"
            ]
          },
          "metadata": {
            "tags": [],
            "needs_background": "light"
          }
        }
      ]
    },
    {
      "cell_type": "code",
      "metadata": {
        "id": "7jv1S8pgSEPR",
        "colab_type": "code",
        "outputId": "e5f5d25c-823a-42c8-8152-ea03f1725a91",
        "colab": {
          "base_uri": "https://localhost:8080/",
          "height": 750
        }
      },
      "source": [
        "import folium\n",
        "# declaration of map \n",
        "india_map = folium.Map(location=[9,80], zoom_start= 5, max_zoom=5, height= 1000, width='100%')\n",
        "\n",
        "for i in range(0, len(df[df['confirmed']>0].index)):\n",
        "    folium.Circle(\n",
        "        location=[df.iloc[i]['Lat'], df.iloc[i]['Long']],\n",
        "        radius=50,\n",
        "        fill=True).add_to(india_map)\n",
        "india_map"
      ],
      "execution_count": 0,
      "outputs": [
        {
          "output_type": "execute_result",
          "data": {
            "text/html": [
              "<div style=\"width:100%;\"><div style=\"position:relative;width:100%;height:0;padding-bottom:60%;\"><iframe src=\"about:blank\" style=\"position:absolute;width:100%;height:100%;left:0;top:0;border:none !important;\" data-html=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 onload=\"this.contentDocument.open();this.contentDocument.write(atob(this.getAttribute('data-html')));this.contentDocument.close();\" allowfullscreen webkitallowfullscreen mozallowfullscreen></iframe></div></div>"
            ],
            "text/plain": [
              "<folium.folium.Map at 0x7f98e87cc940>"
            ]
          },
          "metadata": {
            "tags": []
          },
          "execution_count": 17
        }
      ]
    },
    {
      "cell_type": "code",
      "metadata": {
        "id": "Dzd7vXreT9lP",
        "colab_type": "code",
        "outputId": "00bd53b1-3bec-47c8-94f5-504898664a71",
        "colab": {
          "base_uri": "https://localhost:8080/",
          "height": 750
        }
      },
      "source": [
        "import folium\n",
        "import numpy as np\n",
        "# declaration of map \n",
        "india_map = folium.Map(location=[9,80], zoom_start= 4, max_zoom=5, height= 1000, width='100%')\n",
        "\n",
        "for i in range(0, len(df[df['confirmed']>0].index)):\n",
        "    folium.Circle(\n",
        "        location=[df.iloc[i]['Lat'], df.iloc[i]['Long']],\n",
        "        radius=(int(np.log2(df.iloc[i]['confirmed']+1.0001)))*15000,\n",
        "        tooltip = \"<h5 style='text-align:center;font-weight: bold'>\"+df.iloc[i].state+\"</h5>\"+\n",
        "        \"<li>Confirmed: \"+str(df.iloc[i]['confirmed'])+\"</li>\"+\n",
        "        \"<li>Active:   \"+str(df.iloc[i]['active'])+\"</li>\"+\n",
        "        \"<li>Recovered:   \"+str(df.iloc[i]['recovered'])+\"</li>\"+\n",
        "        \"<li>Deaths:   \"+str(df.iloc[i]['deaths'])+\"</li>\"+\n",
        "        \"</ul>\",\n",
        "        fill=True).add_to(india_map)\n",
        "india_map"
      ],
      "execution_count": 0,
      "outputs": [
        {
          "output_type": "execute_result",
          "data": {
            "text/html": [
              "<div style=\"width:100%;\"><div style=\"position:relative;width:100%;height:0;padding-bottom:60%;\"><iframe src=\"about:blank\" style=\"position:absolute;width:100%;height:100%;left:0;top:0;border:none !important;\" data-html=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 onload=\"this.contentDocument.open();this.contentDocument.write(atob(this.getAttribute('data-html')));this.contentDocument.close();\" allowfullscreen webkitallowfullscreen mozallowfullscreen></iframe></div></div>"
            ],
            "text/plain": [
              "<folium.folium.Map at 0x7f98e9048b38>"
            ]
          },
          "metadata": {
            "tags": []
          },
          "execution_count": 18
        }
      ]
    },
    {
      "cell_type": "code",
      "metadata": {
        "id": "S84GakdGVsbj",
        "colab_type": "code",
        "colab": {}
      },
      "source": [
        ""
      ],
      "execution_count": 0,
      "outputs": []
    }
  ]
}